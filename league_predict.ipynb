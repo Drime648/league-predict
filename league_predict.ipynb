{
  "nbformat": 4,
  "nbformat_minor": 0,
  "metadata": {
    "colab": {
      "name": "league predict.ipynb",
      "provenance": [],
      "collapsed_sections": [],
      "authorship_tag": "ABX9TyOKHOq6Ae919XEgwc6YilRq",
      "include_colab_link": true
    },
    "kernelspec": {
      "name": "python3",
      "display_name": "Python 3"
    },
    "language_info": {
      "name": "python"
    }
  },
  "cells": [
    {
      "cell_type": "markdown",
      "metadata": {
        "id": "view-in-github",
        "colab_type": "text"
      },
      "source": [
        "<a href=\"https://colab.research.google.com/github/Drime648/league-predict/blob/main/league_predict.ipynb\" target=\"_parent\"><img src=\"https://colab.research.google.com/assets/colab-badge.svg\" alt=\"Open In Colab\"/></a>"
      ]
    },
    {
      "cell_type": "markdown",
      "metadata": {
        "id": "wP2k5ljZ3AsI"
      },
      "source": [
        "#importing the big csv file"
      ]
    },
    {
      "cell_type": "code",
      "metadata": {
        "id": "SeaVTIdh7X5Q"
      },
      "source": [
        "import pandas as pd\n",
        "import numpy as np"
      ],
      "execution_count": null,
      "outputs": []
    },
    {
      "cell_type": "code",
      "metadata": {
        "id": "pRSRznDENsX3"
      },
      "source": [
        "import pandas as pd"
      ],
      "execution_count": null,
      "outputs": []
    },
    {
      "cell_type": "code",
      "metadata": {
        "id": "B8MdEVZAN2gW"
      },
      "source": [
        "big_df = pd.read_csv(\"https://raw.githubusercontent.com/Drime648/league-predict/main/2021_LoL_esports_match_data_from_OraclesElixir_20210716.csv\")"
      ],
      "execution_count": null,
      "outputs": []
    },
    {
      "cell_type": "code",
      "metadata": {
        "id": "-UyJtlT-N36m"
      },
      "source": [
        ""
      ],
      "execution_count": null,
      "outputs": []
    },
    {
      "cell_type": "code",
      "metadata": {
        "id": "kCv0DGcGTNFq"
      },
      "source": [
        "big_df.corr()[\"result\"].sort_values(ascending = False)"
      ],
      "execution_count": null,
      "outputs": []
    },
    {
      "cell_type": "markdown",
      "metadata": {
        "id": "Qyxh3kw73GEz"
      },
      "source": [
        "# Practice extraction of match history"
      ]
    },
    {
      "cell_type": "code",
      "metadata": {
        "id": "f9DkNnC0Qt9Z"
      },
      "source": [
        "# smol_df = big_df[:20]\n",
        "# smol_df = pd.DataFrame(smol_df)\n",
        "# smol_df_extract = pd.DataFrame(columns = [\"team1\", \"team2\", \"result\"])"
      ],
      "execution_count": null,
      "outputs": []
    },
    {
      "cell_type": "code",
      "metadata": {
        "id": "FpjmpYz1Qw4p"
      },
      "source": [
        "# for index, row in smol_df.iterrows():\n",
        "#   if (row[\"playerid\"] == 100):\n",
        "#     team_1 = row[\"team\"]\n",
        "#     team_2 = smol_df.iloc[index + 1][\"team\"]\n",
        "#     result = row[\"result\"]\n",
        "#     print(team_1, team_2, result)\n",
        "#     df2 = {\"team1\": team_1, \"team2\": team_2, \"result\": result}\n",
        "#     smol_df_extract = smol_df_extract.append(df2, ignore_index = True)\n"
      ],
      "execution_count": null,
      "outputs": []
    },
    {
      "cell_type": "code",
      "metadata": {
        "id": "OljZSlG9RC_X"
      },
      "source": [
        "# smol_df_extract"
      ],
      "execution_count": null,
      "outputs": []
    },
    {
      "cell_type": "markdown",
      "metadata": {
        "id": "SV7-phOO3J88"
      },
      "source": [
        "# Scale Up extraction of Match History"
      ]
    },
    {
      "cell_type": "code",
      "metadata": {
        "id": "uw7BCZKlbHny"
      },
      "source": [
        "extract_df = pd.DataFrame(columns = [\"team1\", \"team2\", \"result\"])\n"
      ],
      "execution_count": null,
      "outputs": []
    },
    {
      "cell_type": "code",
      "metadata": {
        "id": "G5Bwbw-obJMa"
      },
      "source": [
        "for index, row in big_df.iterrows():\n",
        "  if (row[\"playerid\"] == 100):\n",
        "    team_1 = row[\"team\"]\n",
        "    team_2 = big_df.iloc[index + 1][\"team\"]\n",
        "    result = row[\"result\"]\n",
        "    df2 = {\"team1\": team_1, \"team2\": team_2, \"result\": result}\n",
        "    extract_df = extract_df.append(df2, ignore_index = True)"
      ],
      "execution_count": null,
      "outputs": []
    },
    {
      "cell_type": "code",
      "metadata": {
        "id": "JvqZE9Nfb-t2"
      },
      "source": [
        "extract_df"
      ],
      "execution_count": null,
      "outputs": []
    },
    {
      "cell_type": "code",
      "metadata": {
        "id": "mMykjtu-eXRb"
      },
      "source": [
        "teams = extract_df[\"team2\"].unique()"
      ],
      "execution_count": null,
      "outputs": []
    },
    {
      "cell_type": "code",
      "metadata": {
        "id": "RgezIbHQz_ba"
      },
      "source": [
        "teams"
      ],
      "execution_count": null,
      "outputs": []
    },
    {
      "cell_type": "markdown",
      "metadata": {
        "id": "TxUfm6zbrqlt"
      },
      "source": [
        "#Get Team skill Data\n"
      ]
    },
    {
      "cell_type": "code",
      "metadata": {
        "id": "-ZNtn1wyzJoR"
      },
      "source": [
        "big_df[10:12]"
      ],
      "execution_count": null,
      "outputs": []
    },
    {
      "cell_type": "code",
      "metadata": {
        "id": "d0yJrZUg3R6O"
      },
      "source": [
        "import numpy as np\n",
        "\n",
        "team_skill_df = pd.read_csv('https://raw.githubusercontent.com/Drime648/league-predict/main/team_skill.csv')"
      ],
      "execution_count": null,
      "outputs": []
    },
    {
      "cell_type": "code",
      "metadata": {
        "id": "qCvf7iS-c6cF"
      },
      "source": [
        "# team_skill_df = pd.DataFrame(columns = [\"team\", \"teamkpm\", \"dpm\", \"wpm\", \"vspm\", \"gpm\", \"cspm\", \"dtpm\", \"wcpm\", \"dmpm\", \"deaths\", \"dragons\", \"towers\", \"visionscore\"])"
      ],
      "execution_count": null,
      "outputs": []
    },
    {
      "cell_type": "code",
      "metadata": {
        "id": "QIK_dHJ92NeB"
      },
      "source": [
        "# for team in teams:\n",
        "#   teamkpm = []\n",
        "#   dpm = []\n",
        "#   wpm = []\n",
        "#   vspm = []\n",
        "#   gpm = []\n",
        "#   cspm = []\n",
        "#   dtpm = []\n",
        "#   wcpm = []\n",
        "#   dmpm = []\n",
        "#   deaths = []\n",
        "#   dragons = []\n",
        "#   towers = []\n",
        "#   visionscore = []\n",
        "#   for index, row in big_df.iterrows():\n",
        "#     if row[\"playerid\"] == 100 or row[\"playerid\"] == 200:\n",
        "#       if row[\"team\"] == team:\n",
        "#         teamkpm.append(row[\"team kpm\"])\n",
        "#         dpm.append(row[\"dpm\"])\n",
        "#         wpm.append(row[\"wpm\"])\n",
        "#         wcpm.append(row[\"wcpm\"])\n",
        "#         vspm.append(row[\"vspm\"])\n",
        "#         gpm.append(row[\"earned gpm\"])\n",
        "#         cspm.append(row[\"cspm\"])\n",
        "#         dtpm.append(row[\"damagetakenperminute\"])\n",
        "#         dmpm.append(row[\"damagemitigatedperminute\"])\n",
        "#         deaths.append(row[\"deaths\"])\n",
        "#         dragons.append(row[\"dragons\"])\n",
        "#         towers.append(row[\"towers\"])\n",
        "#         visionscore.append(row[\"visionscore\"])\n",
        "\n",
        "\n",
        "#   avg_teamkpm = np.mean(teamkpm)\n",
        "#   avg_dpm = np.mean(dpm)\n",
        "#   avg_wpm = np.mean(wpm)\n",
        "#   avg_vspm = np.mean(vspm)\n",
        "#   avg_gpm = np.mean(gpm)\n",
        "#   avg_cspm = np.mean(cspm)\n",
        "#   avg_dtpm = np.mean(dtpm)\n",
        "#   avg_dmpm = np.mean(dmpm)\n",
        "#   avg_wcpm = np.mean(wcpm)\n",
        "#   avg_deaths = np.mean(deaths)\n",
        "#   avg_dragons = np.mean(dragons)\n",
        "#   avg_towers = np.mean(towers)\n",
        "#   avg_visionscore = np.mean(visionscore)\n",
        "\n",
        "\n",
        "#   df2 = {\"team\": team, \n",
        "#          \"teamkpm\": avg_teamkpm,\n",
        "#          \"dpm\": avg_dpm,\n",
        "#          \"wpm\": avg_wpm,\n",
        "#          \"vspm\": avg_vspm,\n",
        "#          \"gpm\": avg_gpm,\n",
        "#          \"cspm\": avg_cspm,\n",
        "#          \"dtpm\": avg_dtpm,\n",
        "#          \"dmpm\": avg_dmpm,\n",
        "#          \"wcpm\": avg_wcpm,\n",
        "#          \"deaths\": avg_deaths,\n",
        "#          \"dragons\": avg_dragons,\n",
        "#          \"towers\": avg_towers,\n",
        "#          \"visionscore\": avg_visionscore}\n",
        "#   team_skill_df = team_skill_df.append(df2, ignore_index = True)"
      ],
      "execution_count": null,
      "outputs": []
    },
    {
      "cell_type": "code",
      "metadata": {
        "id": "UKdhyn_GkZBs"
      },
      "source": [
        "# team_skill_df.to_csv(\"team_skill.csv\")"
      ],
      "execution_count": null,
      "outputs": []
    },
    {
      "cell_type": "code",
      "metadata": {
        "id": "70b0ZAy4uvAp"
      },
      "source": [
        "# from google.colab import files\n",
        "# files.download('team_skill.csv') "
      ],
      "execution_count": null,
      "outputs": []
    },
    {
      "cell_type": "code",
      "metadata": {
        "id": "SQ4B3TjyciED"
      },
      "source": [
        "pd.set_option('display.max_columns', None)\n",
        "big_df[10:12]"
      ],
      "execution_count": null,
      "outputs": []
    },
    {
      "cell_type": "code",
      "metadata": {
        "id": "JFDtPW1Fu2Zq"
      },
      "source": [
        "team_skill_df[:5]"
      ],
      "execution_count": null,
      "outputs": []
    },
    {
      "cell_type": "markdown",
      "metadata": {
        "id": "bjyRUGJS3WSg"
      },
      "source": [
        ""
      ]
    },
    {
      "cell_type": "markdown",
      "metadata": {
        "id": "sgXwjFdG2KXt"
      },
      "source": [
        "# Getting rid of Null Values"
      ]
    },
    {
      "cell_type": "code",
      "metadata": {
        "id": "RQ-Mra1i2Mz7"
      },
      "source": [
        "import seaborn as sns"
      ],
      "execution_count": null,
      "outputs": []
    },
    {
      "cell_type": "code",
      "metadata": {
        "id": "KGSYZ3XO2OUc"
      },
      "source": [
        "sns.heatmap(team_skill_df.isnull(), yticklabels=False, cbar = False)"
      ],
      "execution_count": null,
      "outputs": []
    },
    {
      "cell_type": "code",
      "metadata": {
        "id": "wSDIc4ku2U0q"
      },
      "source": [
        "team_skill_df.isnull().sum()"
      ],
      "execution_count": null,
      "outputs": []
    },
    {
      "cell_type": "code",
      "metadata": {
        "id": "ZKaXzB0w2bLW"
      },
      "source": [
        "team_skill_df['vspm'] = team_skill_df['vspm'].fillna(team_skill_df['vspm'].mean())\n",
        "team_skill_df['cspm'] = team_skill_df['cspm'].fillna(team_skill_df['cspm'].mean())\n",
        "team_skill_df['dmpm'] = team_skill_df['dmpm'].fillna(team_skill_df['dmpm'].mean())\n",
        "team_skill_df['visionscore'] = team_skill_df['visionscore'].fillna(team_skill_df['visionscore'].mean())\n",
        "\n"
      ],
      "execution_count": null,
      "outputs": []
    },
    {
      "cell_type": "code",
      "metadata": {
        "id": "k63DCKVM2wKL"
      },
      "source": [
        "team_skill_df.isnull().sum()"
      ],
      "execution_count": null,
      "outputs": []
    },
    {
      "cell_type": "code",
      "metadata": {
        "id": "7GqMhiwm27gs"
      },
      "source": [
        "sns.heatmap(team_skill_df.isnull(), yticklabels=False, cbar = False)"
      ],
      "execution_count": null,
      "outputs": []
    },
    {
      "cell_type": "markdown",
      "metadata": {
        "id": "U2N_h0xf3uk6"
      },
      "source": [
        "# Combining the Data: small scale testing"
      ]
    },
    {
      "cell_type": "code",
      "metadata": {
        "id": "Lknr_zgA6RQJ"
      },
      "source": [
        "# smol_extract_df_tester = extract_df[:5]\n",
        "# smol_extract_df_tester"
      ],
      "execution_count": null,
      "outputs": []
    },
    {
      "cell_type": "code",
      "metadata": {
        "id": "mnjlt6lY6yKd"
      },
      "source": [
        "# team_skill_df[:5]"
      ],
      "execution_count": null,
      "outputs": []
    },
    {
      "cell_type": "code",
      "metadata": {
        "id": "JIWUQzq53wKr"
      },
      "source": [
        "# for index, row in smol_extract_df_tester.iterrows():\n",
        "#   team1_name = row[\"team1\"]\n",
        "#   team2_name = row[\"team2\"]\n",
        "#   team_1_data = []\n",
        "#   team_2_data = []\n",
        "\n",
        "#   for skill_index, skill_row in team_skill_df.iterrows():\n",
        "#     if skill_row[\"team\"] == team1_name:\n",
        "#       teamkpm = skill_row[\"teamkpm\"]\n",
        "#       dpm = skill_row[\"dpm\"]\n",
        "#       wpm = skill_row[\"wpm\"]\n",
        "#       vspm = skill_row[\"vspm\"]\n",
        "#       gpm = skill_row[\"gpm\"]\n",
        "#       cspm = skill_row[\"cspm\"]\n",
        "#       dtpm = skill_row[\"dtpm\"]\n",
        "#       wcpm = skill_row[\"wcpm\"]\n",
        "#       dmpm = skill_row[\"dmpm\"]\n",
        "\n",
        "#       team_1_data = [teamkpm, dpm, wpm, vspm, gpm, cspm, dtpm, wcpm, dmpm]\n",
        "#     elif skill_row[\"team\"] == team2_name:\n",
        "#       teamkpm = skill_row[\"teamkpm\"]\n",
        "#       dpm = skill_row[\"dpm\"]\n",
        "#       wpm = skill_row[\"wpm\"]\n",
        "#       vspm = skill_row[\"vspm\"]\n",
        "#       gpm = skill_row[\"gpm\"]\n",
        "#       cspm = skill_row[\"cspm\"]\n",
        "#       dtpm = skill_row[\"dtpm\"]\n",
        "#       wcpm = skill_row[\"wcpm\"]\n",
        "#       dmpm = skill_row[\"dmpm\"]\n",
        "\n",
        "#       team_2_data = [teamkpm, dpm, wpm, vspm, gpm, cspm, dtpm, wcpm, dmpm]\n",
        "#     row[\"team1\"] = team_1_data\n",
        "#     row[\"team2\"] = team_2_data\n",
        "\n",
        "\n",
        "      \n",
        "\n",
        "\n",
        "\n",
        "\n",
        "\n"
      ],
      "execution_count": null,
      "outputs": []
    },
    {
      "cell_type": "code",
      "metadata": {
        "id": "7Xs1ppHy_xAY"
      },
      "source": [
        "# smol_extract_df_tester"
      ],
      "execution_count": null,
      "outputs": []
    },
    {
      "cell_type": "markdown",
      "metadata": {
        "id": "5kjF1oZi_2NI"
      },
      "source": [
        "#Combining the data: Scaled Up"
      ]
    },
    {
      "cell_type": "code",
      "metadata": {
        "id": "AVZy3osCAwev"
      },
      "source": [
        "# main_df = pd.DataFrame(columns = [\"team1_teamkpm\", \"team1_dpm\", \"team1_wpm\", \"team1_vspm\", \"team1_gpm\", \"team1_cspm\", \"team1_dtpm\", \"team1_wcpm\", \"team1_dmpm\",\n",
        "#                                   \"team1_deaths\", \"team1_dragons\", \"team1_towers\", \"team1_visionscore\",\n",
        "#                                   \"team2_teamkpm\", \"team2_dpm\", \"team2_wpm\", \"team2_vspm\", \"team2_gpm\", \"team2_cspm\", \"team2_dtpm\", \"team2_wcpm\", \"team2_dmpm\",\n",
        "#                                   \"team2_deaths\", \"team2_dragons\", \"team2_towers\", \"team2_visionscore\"\n",
        "#                                   ])"
      ],
      "execution_count": null,
      "outputs": []
    },
    {
      "cell_type": "code",
      "metadata": {
        "id": "hgKsLbYwFGVa"
      },
      "source": [
        "# main_df"
      ],
      "execution_count": null,
      "outputs": []
    },
    {
      "cell_type": "code",
      "metadata": {
        "id": "eAHvDEUL_5zN"
      },
      "source": [
        "# for index, row in extract_df.iterrows():\n",
        "#   team1_name = row[\"team1\"]\n",
        "#   team2_name = row[\"team2\"]\n",
        "\n",
        "#   team1_teamkpm = 0\n",
        "#   team1_dpm = 0\n",
        "#   team1_wpm = 0\n",
        "#   team1_vspm = 0\n",
        "#   team1_gpm = 0\n",
        "#   team1_cspm = 0\n",
        "#   team1_dtpm = 0\n",
        "#   team1_wcpm = 0\n",
        "#   team1_dmpm = 0\n",
        "#   team1_deaths = 0\n",
        "#   team1_dragons = 0\n",
        "#   team1_towers = 0\n",
        "#   team1_visionscore = 0\n",
        "\n",
        "\n",
        "\n",
        "#   team2_teamkpm = 0\n",
        "#   team2_dpm = 0\n",
        "#   team2_wpm = 0\n",
        "#   team2_vspm = 0\n",
        "#   team2_gpm = 0\n",
        "#   team2_cspm = 0\n",
        "#   team2_dtpm = 0\n",
        "#   team2_wcpm = 0\n",
        "#   team2_dmpm = 0\n",
        "#   team2_deaths = 0\n",
        "#   team2_dragons = 0\n",
        "#   team2_towers = 0\n",
        "#   team2_visionscore = 0\n",
        "#   for skill_index, skill_row in team_skill_df.iterrows():\n",
        "#     if skill_row[\"team\"] == team1_name:\n",
        "#       team1_teamkpm = skill_row[\"teamkpm\"]\n",
        "#       team1_dpm = skill_row[\"dpm\"]\n",
        "#       team1_wpm = skill_row[\"wpm\"]\n",
        "#       team1_vspm = skill_row[\"vspm\"]\n",
        "#       team1_gpm = skill_row[\"gpm\"]\n",
        "#       team1_cspm = skill_row[\"cspm\"]\n",
        "#       team1_dtpm = skill_row[\"dtpm\"]\n",
        "#       team1_wcpm = skill_row[\"wcpm\"]\n",
        "#       team1_dmpm = skill_row[\"dmpm\"]\n",
        "#       team1_deaths = skill_row[\"deaths\"]\n",
        "#       team1_dragons = skill_row[\"dragons\"]\n",
        "#       team1_towers = skill_row[\"towers\"]\n",
        "#       team1_visionscore = skill_row[\"visionscore\"]\n",
        "\n",
        "    \n",
        "#     if skill_row[\"team\"] == team2_name:\n",
        "#       team2_teamkpm = skill_row[\"teamkpm\"]\n",
        "#       team2_dpm = skill_row[\"dpm\"]\n",
        "#       team2_wpm = skill_row[\"wpm\"]\n",
        "#       team2_vspm = skill_row[\"vspm\"]\n",
        "#       team2_gpm = skill_row[\"gpm\"]\n",
        "#       team2_cspm = skill_row[\"cspm\"]\n",
        "#       team2_dtpm = skill_row[\"dtpm\"]\n",
        "#       team2_wcpm = skill_row[\"wcpm\"]\n",
        "#       team2_dmpm = skill_row[\"dmpm\"]\n",
        "#       team2_deaths = skill_row[\"deaths\"]\n",
        "#       team2_dragons = skill_row[\"dragons\"]\n",
        "#       team2_towers = skill_row[\"towers\"]\n",
        "#       team2_visionscore = skill_row[\"visionscore\"]\n",
        "\n",
        "\n",
        "#   df2 = {\"team1_teamkpm\": team1_teamkpm,\n",
        "#          \"team1_dpm\": team1_dpm,\n",
        "#          \"team1_wpm\": team1_wpm,\n",
        "#          \"team1_vspm\": team1_vspm,\n",
        "#          \"team1_gpm\": team1_gpm,\n",
        "#          \"team1_cspm\": team1_cspm,\n",
        "#          \"team1_dtpm\": team1_dtpm,\n",
        "#          \"team1_wcpm\": team1_wcpm,\n",
        "#          \"team1_dmpm\": team1_dmpm,\n",
        "#          \"team1_deaths\": team1_deaths,\n",
        "#          \"team1_dragons\": team1_dragons,\n",
        "#          \"team1_towers\": team1_towers,\n",
        "#          \"team1_visionscore\": team1_visionscore,\n",
        "#          \"team2_teamkpm\": team2_teamkpm,\n",
        "#          \"team2_dpm\": team2_dpm,\n",
        "#          \"team2_wpm\": team2_wpm,\n",
        "#          \"team2_vspm\": team2_vspm,\n",
        "#          \"team2_gpm\": team2_gpm,\n",
        "#          \"team2_cspm\": team2_cspm,\n",
        "#          \"team2_dtpm\": team2_dtpm,\n",
        "#          \"team2_wcpm\": team2_wcpm,\n",
        "#          \"team2_dmpm\": team2_dmpm,\n",
        "#          \"team2_deaths\": team2_deaths,\n",
        "#          \"team2_dragons\": team2_dragons,\n",
        "#          \"team2_towers\": team2_towers,\n",
        "#          \"team2_visionscore\": team2_visionscore,}\n",
        "#   main_df = main_df.append(df2, ignore_index = True)\n",
        "  "
      ],
      "execution_count": null,
      "outputs": []
    },
    {
      "cell_type": "code",
      "metadata": {
        "id": "qi974w7MFGBC"
      },
      "source": [
        "# main_df[\"result\"] = extract_df[\"result\"]"
      ],
      "execution_count": null,
      "outputs": []
    },
    {
      "cell_type": "code",
      "metadata": {
        "id": "7_5aoZwzHDNi"
      },
      "source": [
        "main_df = pd.read_csv(\"https://raw.githubusercontent.com/Drime648/league-predict/main/main_df.csv\")\n",
        "main_df = main_df.drop(\"Unnamed: 0\", axis = 1)"
      ],
      "execution_count": null,
      "outputs": []
    },
    {
      "cell_type": "code",
      "metadata": {
        "id": "iYXPtR31GkCD"
      },
      "source": [
        "main_df[:5]"
      ],
      "execution_count": null,
      "outputs": []
    },
    {
      "cell_type": "code",
      "metadata": {
        "id": "AtxRHoL5GpYa"
      },
      "source": [
        "extract_df[:5]"
      ],
      "execution_count": null,
      "outputs": []
    },
    {
      "cell_type": "code",
      "metadata": {
        "id": "6PWTiqwfB-KP"
      },
      "source": [
        "# main_df.to_csv(\"main_df_fixed_fr.csv\")"
      ],
      "execution_count": null,
      "outputs": []
    },
    {
      "cell_type": "code",
      "metadata": {
        "id": "gwCxERytFLdq"
      },
      "source": [
        "# files.download('main_df_fixed_fr.csv') \n"
      ],
      "execution_count": null,
      "outputs": []
    },
    {
      "cell_type": "markdown",
      "metadata": {
        "id": "LDiZcWvRR0qq"
      },
      "source": [
        "#Preprocessing the Data"
      ]
    },
    {
      "cell_type": "code",
      "metadata": {
        "id": "BkXsH8eXR0Fj"
      },
      "source": [
        "from sklearn.compose import make_column_transformer\n",
        "from sklearn.preprocessing import MinMaxScaler"
      ],
      "execution_count": null,
      "outputs": []
    },
    {
      "cell_type": "code",
      "metadata": {
        "id": "OI8yE6sZPTyc"
      },
      "source": [
        "features = main_df.drop(\"result\", axis = 1)\n",
        "labels = main_df[\"result\"]\n",
        "columns = features.columns"
      ],
      "execution_count": null,
      "outputs": []
    },
    {
      "cell_type": "code",
      "metadata": {
        "id": "zwU6_DGIPcle"
      },
      "source": [
        "columns"
      ],
      "execution_count": null,
      "outputs": []
    },
    {
      "cell_type": "code",
      "metadata": {
        "id": "H39TQ2hgWh6X"
      },
      "source": [
        "ct = make_column_transformer(\n",
        "    (MinMaxScaler(), columns)# make them between 0 and 1\n",
        ")"
      ],
      "execution_count": null,
      "outputs": []
    },
    {
      "cell_type": "code",
      "metadata": {
        "id": "QHRC6CUSWln9"
      },
      "source": [
        "features[:2]"
      ],
      "execution_count": null,
      "outputs": []
    },
    {
      "cell_type": "code",
      "metadata": {
        "id": "iQwOtpOPPrAI"
      },
      "source": [
        "labels[:2]"
      ],
      "execution_count": null,
      "outputs": []
    },
    {
      "cell_type": "code",
      "metadata": {
        "id": "lOcORnRyPuXD"
      },
      "source": [
        "main_df[:5]"
      ],
      "execution_count": null,
      "outputs": []
    },
    {
      "cell_type": "code",
      "metadata": {
        "id": "m2JTSPckP1dK"
      },
      "source": [
        "X = ct.fit_transform(features)"
      ],
      "execution_count": null,
      "outputs": []
    },
    {
      "cell_type": "code",
      "metadata": {
        "id": "m1kGIZsvQGSq"
      },
      "source": [
        "X"
      ],
      "execution_count": null,
      "outputs": []
    },
    {
      "cell_type": "code",
      "metadata": {
        "id": "1lzpKPi5QK6i"
      },
      "source": [
        "y = labels"
      ],
      "execution_count": null,
      "outputs": []
    },
    {
      "cell_type": "code",
      "metadata": {
        "id": "y4qS7VooQMKk"
      },
      "source": [
        "y"
      ],
      "execution_count": null,
      "outputs": []
    },
    {
      "cell_type": "markdown",
      "metadata": {
        "id": "Hgq5lwkXHwqW"
      },
      "source": [
        "# Split The Data"
      ]
    },
    {
      "cell_type": "code",
      "metadata": {
        "id": "kKvP0XRGHnYc"
      },
      "source": [
        "from sklearn.model_selection import train_test_split\n",
        "X_train, X_test, y_train, y_test = train_test_split(X, y, test_size = 0.2)"
      ],
      "execution_count": null,
      "outputs": []
    },
    {
      "cell_type": "code",
      "metadata": {
        "id": "CbAcHPRnQTjT"
      },
      "source": [
        "len(X_train), len(X_test), len(y_train), len(y_test)"
      ],
      "execution_count": null,
      "outputs": []
    },
    {
      "cell_type": "code",
      "metadata": {
        "id": "CXWexQApXnTg"
      },
      "source": [
        "X_train[:1, :5]"
      ],
      "execution_count": null,
      "outputs": []
    },
    {
      "cell_type": "code",
      "metadata": {
        "id": "ExLnY0XT4BxH"
      },
      "source": [
        "y_train[:1]"
      ],
      "execution_count": null,
      "outputs": []
    },
    {
      "cell_type": "markdown",
      "metadata": {
        "id": "K2KmoedSXXVO"
      },
      "source": [
        "# Gradient booster"
      ]
    },
    {
      "cell_type": "code",
      "metadata": {
        "id": "ew2y380-QbOy"
      },
      "source": [
        "from sklearn.ensemble import GradientBoostingClassifier"
      ],
      "execution_count": null,
      "outputs": []
    },
    {
      "cell_type": "code",
      "metadata": {
        "id": "OY_AzrbVsF_I"
      },
      "source": [
        "clf = GradientBoostingClassifier(n_estimators=500, max_depth=1, learning_rate=1.0).fit(X_train, y_train)\n",
        "\n",
        "clf.score(X_test, y_test)"
      ],
      "execution_count": null,
      "outputs": []
    },
    {
      "cell_type": "code",
      "metadata": {
        "id": "_diqUgU-ifZT"
      },
      "source": [
        "clf"
      ],
      "execution_count": null,
      "outputs": []
    },
    {
      "cell_type": "markdown",
      "metadata": {
        "id": "BVc0sDs9uk4t"
      },
      "source": [
        "# LinearSVC"
      ]
    },
    {
      "cell_type": "code",
      "metadata": {
        "id": "jJ8AhcQSsfwU"
      },
      "source": [
        "from sklearn.svm import LinearSVC\n",
        "from sklearn.pipeline import make_pipeline"
      ],
      "execution_count": null,
      "outputs": []
    },
    {
      "cell_type": "code",
      "metadata": {
        "id": "p5nXi2QVu9EC"
      },
      "source": [
        "lin_clf = make_pipeline(LinearSVC(random_state=0, max_iter=10000, tol=1e-6))\n",
        "lin_clf.fit(X_train, y_train)"
      ],
      "execution_count": null,
      "outputs": []
    },
    {
      "cell_type": "code",
      "metadata": {
        "id": "eE-B1_MQvmBj"
      },
      "source": [
        "lin_clf.score(X_test, y_test)"
      ],
      "execution_count": null,
      "outputs": []
    },
    {
      "cell_type": "code",
      "metadata": {
        "id": "go7OAhm_6CIX"
      },
      "source": [
        ""
      ],
      "execution_count": null,
      "outputs": []
    },
    {
      "cell_type": "code",
      "metadata": {
        "id": "gJVt6LoA6CKp"
      },
      "source": [
        ""
      ],
      "execution_count": null,
      "outputs": []
    },
    {
      "cell_type": "code",
      "metadata": {
        "id": "n0c79A6e6CNK"
      },
      "source": [
        ""
      ],
      "execution_count": null,
      "outputs": []
    },
    {
      "cell_type": "code",
      "metadata": {
        "id": "f6kjN-Oj6CPC"
      },
      "source": [
        ""
      ],
      "execution_count": null,
      "outputs": []
    },
    {
      "cell_type": "markdown",
      "metadata": {
        "id": "sD4UbcoX6O7F"
      },
      "source": [
        "# logistic regression\n",
        "\n",
        "the BEST model"
      ]
    },
    {
      "cell_type": "code",
      "metadata": {
        "id": "fYyB4I2X6QPC"
      },
      "source": [
        "from sklearn.linear_model import LogisticRegression"
      ],
      "execution_count": null,
      "outputs": []
    },
    {
      "cell_type": "code",
      "metadata": {
        "id": "9wYmlq7P6QRA"
      },
      "source": [
        "log = LogisticRegression(C = 0.9).fit(X_train, y_train)\n",
        "log.score(X_test, y_test)"
      ],
      "execution_count": null,
      "outputs": []
    },
    {
      "cell_type": "code",
      "metadata": {
        "id": "MNn4PyVE6QVY"
      },
      "source": [
        "import pickle\n",
        "pickle.dump(log, open('log_model', 'wb'))"
      ],
      "execution_count": null,
      "outputs": []
    },
    {
      "cell_type": "code",
      "metadata": {
        "id": "u1xqhxsS6QXa"
      },
      "source": [
        "loaded_model = pickle.load(open('log_model', 'rb'))"
      ],
      "execution_count": null,
      "outputs": []
    },
    {
      "cell_type": "code",
      "metadata": {
        "id": "eBXp5D3aYUgO"
      },
      "source": [
        "loaded_model.score(X_test, y_test)\n"
      ],
      "execution_count": null,
      "outputs": []
    },
    {
      "cell_type": "markdown",
      "metadata": {
        "id": "FoPCRybxv-ut"
      },
      "source": [
        "# KNN"
      ]
    },
    {
      "cell_type": "code",
      "metadata": {
        "id": "MSMQlZ_Lvr00"
      },
      "source": [
        "from sklearn.neighbors import KNeighborsClassifier"
      ],
      "execution_count": null,
      "outputs": []
    },
    {
      "cell_type": "code",
      "metadata": {
        "id": "HvsIYb78xvSH"
      },
      "source": [
        "neigh = KNeighborsClassifier(n_neighbors=500)"
      ],
      "execution_count": null,
      "outputs": []
    },
    {
      "cell_type": "code",
      "metadata": {
        "id": "1bYFcLzExvo0"
      },
      "source": [
        "neigh.fit(X_train, y_train)"
      ],
      "execution_count": null,
      "outputs": []
    },
    {
      "cell_type": "code",
      "metadata": {
        "id": "v4bFJSKNxyZE"
      },
      "source": [
        "neigh.score(X_test, y_test)"
      ],
      "execution_count": null,
      "outputs": []
    },
    {
      "cell_type": "code",
      "metadata": {
        "id": "PZVZvbyDiIJQ"
      },
      "source": [
        "neigh = 0"
      ],
      "execution_count": null,
      "outputs": []
    },
    {
      "cell_type": "markdown",
      "metadata": {
        "id": "RB6N5ZSl09U0"
      },
      "source": [
        "# SVC"
      ]
    },
    {
      "cell_type": "code",
      "metadata": {
        "id": "w1b34rA1zLq0"
      },
      "source": [
        "from sklearn.svm import SVC\n",
        "clf = make_pipeline(SVC(gamma='auto'))"
      ],
      "execution_count": null,
      "outputs": []
    },
    {
      "cell_type": "code",
      "metadata": {
        "id": "tPOwx9OI0_xT"
      },
      "source": [
        "clf.fit(X_train, y_train)"
      ],
      "execution_count": null,
      "outputs": []
    },
    {
      "cell_type": "code",
      "metadata": {
        "id": "P68FP7rb1B00"
      },
      "source": [
        "clf.score(X_test, y_test)"
      ],
      "execution_count": null,
      "outputs": []
    },
    {
      "cell_type": "markdown",
      "metadata": {
        "id": "GjrYCQtH1O1y"
      },
      "source": [
        "# Random FOrest"
      ]
    },
    {
      "cell_type": "code",
      "metadata": {
        "id": "Zv5-GciV1DXz"
      },
      "source": [
        "from sklearn.ensemble import RandomForestClassifier"
      ],
      "execution_count": null,
      "outputs": []
    },
    {
      "cell_type": "code",
      "metadata": {
        "id": "4fpbC-NW1W1k"
      },
      "source": [
        "clf = RandomForestClassifier(max_depth=2, random_state=0)"
      ],
      "execution_count": null,
      "outputs": []
    },
    {
      "cell_type": "code",
      "metadata": {
        "id": "8qm8T5uk1Xc1"
      },
      "source": [
        "clf.fit(X_train, y_train)"
      ],
      "execution_count": null,
      "outputs": []
    },
    {
      "cell_type": "code",
      "metadata": {
        "id": "RjC4yXBW1fGU"
      },
      "source": [
        "clf.score(X_test, y_test)"
      ],
      "execution_count": null,
      "outputs": []
    },
    {
      "cell_type": "markdown",
      "metadata": {
        "id": "Oz2bRCSyAOQS"
      },
      "source": [
        "# ADABOOST\n",
        "\n"
      ]
    },
    {
      "cell_type": "code",
      "metadata": {
        "id": "W-4Qr8dAAPw2"
      },
      "source": [
        "from sklearn.ensemble import AdaBoostClassifier"
      ],
      "execution_count": null,
      "outputs": []
    },
    {
      "cell_type": "code",
      "metadata": {
        "id": "C1wQYfeqAPzD"
      },
      "source": [
        "clf = AdaBoostClassifier(n_estimators=1000, random_state=0)\n",
        "clf.fit(X_train, y_train)"
      ],
      "execution_count": null,
      "outputs": []
    },
    {
      "cell_type": "code",
      "metadata": {
        "id": "sSjqAWs8AP1k"
      },
      "source": [
        "clf.score(X_test, y_test)"
      ],
      "execution_count": null,
      "outputs": []
    },
    {
      "cell_type": "code",
      "metadata": {
        "id": "JHtU-41cAP3a"
      },
      "source": [
        ""
      ],
      "execution_count": null,
      "outputs": []
    },
    {
      "cell_type": "markdown",
      "metadata": {
        "id": "8VkLiwPe7cyB"
      },
      "source": [
        "# SGD Classifier"
      ]
    },
    {
      "cell_type": "code",
      "metadata": {
        "id": "cHjxvceCCrwN"
      },
      "source": [
        "from sklearn.linear_model import SGDClassifier"
      ],
      "execution_count": null,
      "outputs": []
    },
    {
      "cell_type": "code",
      "metadata": {
        "id": "lx-FWFI3Cryc"
      },
      "source": [
        "clf = SGDClassifier(max_iter=5000, tol=1e-5, alpha = 1.5)"
      ],
      "execution_count": null,
      "outputs": []
    },
    {
      "cell_type": "code",
      "metadata": {
        "id": "IfHSNtavCr0i"
      },
      "source": [
        "clf.fit(X_train, y_train)\n",
        "clf.score(X_test, y_test)"
      ],
      "execution_count": null,
      "outputs": []
    },
    {
      "cell_type": "code",
      "metadata": {
        "id": "y8B-xx7VCr2o"
      },
      "source": [
        "clf= 0"
      ],
      "execution_count": null,
      "outputs": []
    },
    {
      "cell_type": "code",
      "metadata": {
        "id": "Uu8bRlfcCr4O"
      },
      "source": [
        ""
      ],
      "execution_count": null,
      "outputs": []
    },
    {
      "cell_type": "markdown",
      "metadata": {
        "id": "ETOKzYQzto_k"
      },
      "source": [
        "#Decision Tree"
      ]
    },
    {
      "cell_type": "code",
      "metadata": {
        "id": "qkBWHTSRtqN4"
      },
      "source": [
        ""
      ],
      "execution_count": null,
      "outputs": []
    },
    {
      "cell_type": "code",
      "metadata": {
        "id": "d46goQkStqP9"
      },
      "source": [
        ""
      ],
      "execution_count": null,
      "outputs": []
    },
    {
      "cell_type": "markdown",
      "metadata": {
        "id": "jjR_DhX8faUk"
      },
      "source": [
        "# Predictor"
      ]
    },
    {
      "cell_type": "code",
      "metadata": {
        "id": "zh7dJBdOEzR0"
      },
      "source": [
        "def predict(team1_name, team2_name):\n",
        "  team1_teamkpm = 0\n",
        "  team1_dpm = 0\n",
        "  team1_wpm = 0\n",
        "  team1_vspm = 0\n",
        "  team1_gpm = 0\n",
        "  team1_cspm = 0\n",
        "  team1_dtpm = 0\n",
        "  team1_wcpm = 0\n",
        "  team1_dmpm = 0\n",
        "  team1_deaths = 0\n",
        "  team1_dragons = 0\n",
        "  team1_towers = 0\n",
        "  team1_visionscore = 0\n",
        "\n",
        "\n",
        "\n",
        "  team2_teamkpm = 0\n",
        "  team2_dpm = 0\n",
        "  team2_wpm = 0\n",
        "  team2_vspm = 0\n",
        "  team2_gpm = 0\n",
        "  team2_cspm = 0\n",
        "  team2_dtpm = 0\n",
        "  team2_wcpm = 0\n",
        "  team2_dmpm = 0\n",
        "  team2_deaths = 0\n",
        "  team2_dragons = 0\n",
        "  team2_towers = 0\n",
        "  team2_visionscore = 0\n",
        "  for skill_index, skill_row in team_skill_df.iterrows():\n",
        "    if skill_row[\"team\"] == team1_name:\n",
        "      team1_teamkpm = skill_row[\"teamkpm\"]\n",
        "      team1_dpm = skill_row[\"dpm\"]\n",
        "      team1_wpm = skill_row[\"wpm\"]\n",
        "      team1_vspm = skill_row[\"vspm\"]\n",
        "      team1_gpm = skill_row[\"gpm\"]\n",
        "      team1_cspm = skill_row[\"cspm\"]\n",
        "      team1_dtpm = skill_row[\"dtpm\"]\n",
        "      team1_wcpm = skill_row[\"wcpm\"]\n",
        "      team1_dmpm = skill_row[\"dmpm\"]\n",
        "      team1_deaths = skill_row[\"deaths\"]\n",
        "      team1_dragons = skill_row[\"dragons\"]\n",
        "      team1_towers = skill_row[\"towers\"]\n",
        "      team1_visionscore = skill_row[\"visionscore\"]\n",
        "\n",
        "    \n",
        "    if skill_row[\"team\"] == team2_name:\n",
        "      team2_teamkpm = skill_row[\"teamkpm\"]\n",
        "      team2_dpm = skill_row[\"dpm\"]\n",
        "      team2_wpm = skill_row[\"wpm\"]\n",
        "      team2_vspm = skill_row[\"vspm\"]\n",
        "      team2_gpm = skill_row[\"gpm\"]\n",
        "      team2_cspm = skill_row[\"cspm\"]\n",
        "      team2_dtpm = skill_row[\"dtpm\"]\n",
        "      team2_wcpm = skill_row[\"wcpm\"]\n",
        "      team2_dmpm = skill_row[\"dmpm\"]\n",
        "      team2_deaths = skill_row[\"deaths\"]\n",
        "      team2_dragons = skill_row[\"dragons\"]\n",
        "      team2_towers = skill_row[\"towers\"]\n",
        "      team2_visionscore = skill_row[\"visionscore\"]\n",
        "  data = [team1_teamkpm, team1_dpm, team1_wpm, team1_vspm, team1_gpm, team1_cspm, team1_dtpm, team1_wcpm, team1_dmpm,\n",
        "                                  team1_deaths, team1_dragons, team1_towers, team1_visionscore,\n",
        "                                  team2_teamkpm, team2_dpm, team2_wpm, team2_vspm, team2_gpm, team2_cspm, team2_dtpm, team2_wcpm, team2_dmpm,\n",
        "                                  team2_deaths, team2_dragons, team2_towers, team2_visionscore]\n",
        "  \n",
        "\n"
      ],
      "execution_count": null,
      "outputs": []
    },
    {
      "cell_type": "code",
      "metadata": {
        "id": "g69B5DCbgwuN"
      },
      "source": [
        "predict(\"Nongshim RedForce\", 'DWG KIA')"
      ],
      "execution_count": null,
      "outputs": []
    },
    {
      "cell_type": "code",
      "metadata": {
        "id": "VNQ_8iejfb8P"
      },
      "source": [
        "X_train[:1]"
      ],
      "execution_count": null,
      "outputs": []
    },
    {
      "cell_type": "code",
      "metadata": {
        "id": "u_6sn4uMfb-H"
      },
      "source": [
        "main_df[:5]"
      ],
      "execution_count": null,
      "outputs": []
    },
    {
      "cell_type": "code",
      "metadata": {
        "id": "jzJc0CY1fcAR"
      },
      "source": [
        "team_skill_df[:5]"
      ],
      "execution_count": null,
      "outputs": []
    },
    {
      "cell_type": "code",
      "metadata": {
        "id": "b3eRlkccfcCd"
      },
      "source": [
        ""
      ],
      "execution_count": null,
      "outputs": []
    },
    {
      "cell_type": "code",
      "metadata": {
        "id": "R5cF3FqkfcEi"
      },
      "source": [
        ""
      ],
      "execution_count": null,
      "outputs": []
    }
  ]
}